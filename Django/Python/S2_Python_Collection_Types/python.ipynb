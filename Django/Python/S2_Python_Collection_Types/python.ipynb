{
 "cells": [
  {
   "cell_type": "code",
   "execution_count": 5,
   "metadata": {},
   "outputs": [
    {
     "name": "stdout",
     "output_type": "stream",
     "text": [
      "['m', ' ', 'e', 'r', 'h', 'a', 'b', 'a']\n",
      "['m erhaba']\n",
      "['m erhaba']\n"
     ]
    }
   ],
   "source": [
    "a = 'm erhaba'\n",
    "b = [a]\n",
    "print(list(a))\n",
    "print(b)\n",
    "print(list(b))"
   ]
  },
  {
   "cell_type": "code",
   "execution_count": 20,
   "metadata": {},
   "outputs": [
    {
     "name": "stdout",
     "output_type": "stream",
     "text": [
      "[11, 'ffff', 11.5, [1, 2, 3]]\n",
      "[[[11, 'ffff', 11.5, [1, 2, 3]]]]\n",
      "[2, [555, 558, 55], 9]\n"
     ]
    }
   ],
   "source": [
    "mi = [11, 'ffff', 11.5, [1,2,3,] ]\n",
    "print(mi)\n",
    "mi2 = [mi]\n",
    "mi3 = [mi2]\n",
    "print(mi3)\n",
    "a = [2]\n",
    "a.append(9)\n",
    "a.insert(1,[555,558,55,])\n",
    "print(a)"
   ]
  },
  {
   "cell_type": "code",
   "execution_count": 23,
   "metadata": {},
   "outputs": [
    {
     "name": "stdout",
     "output_type": "stream",
     "text": [
      "<class 'float'>\n",
      "11.5\n"
     ]
    }
   ],
   "source": [
    "print(type(mi[2]))\n",
    "print(mi[2])\n"
   ]
  },
  {
   "cell_type": "code",
   "execution_count": 29,
   "metadata": {},
   "outputs": [
    {
     "name": "stdout",
     "output_type": "stream",
     "text": [
      "{'meyve': 'elma', 'içecek': 'su', 'şehir': 'ankara'}\n",
      "ankara\n"
     ]
    }
   ],
   "source": [
    "menü = {\"meyve\":\"elma\",\"içecek\":\"su\"}\n",
    "menü[\"şehir\"]= \"ankara\"\n",
    "print(menü)\n",
    "print(menü.pop[\"şehir\"])"
   ]
  },
  {
   "cell_type": "code",
   "execution_count": null,
   "metadata": {},
   "outputs": [],
   "source": []
  }
 ],
 "metadata": {
  "kernelspec": {
   "display_name": "Python 3.11.0 64-bit",
   "language": "python",
   "name": "python3"
  },
  "language_info": {
   "codemirror_mode": {
    "name": "ipython",
    "version": 3
   },
   "file_extension": ".py",
   "mimetype": "text/x-python",
   "name": "python",
   "nbconvert_exporter": "python",
   "pygments_lexer": "ipython3",
   "version": "3.11.0"
  },
  "orig_nbformat": 4,
  "vscode": {
   "interpreter": {
    "hash": "a3f65d67fa351915cd7385f244855bcaa8812542339c5fe365f55871a9ed894d"
   }
  }
 },
 "nbformat": 4,
 "nbformat_minor": 2
}
